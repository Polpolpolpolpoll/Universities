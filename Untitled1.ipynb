{
 "cells": [
  {
   "cell_type": "code",
   "execution_count": 56,
   "metadata": {},
   "outputs": [
    {
     "name": "stdout",
     "output_type": "stream",
     "text": [
      "0     1476221.0\n",
      "1     1602387.0\n",
      "2     1717481.0\n",
      "3     1764164.0\n",
      "4     1789623.0\n",
      "5     1793828.0\n",
      "6     1896263.0\n",
      "7     1901182.0\n",
      "8     1918090.0\n",
      "9     1944136.0\n",
      "10    1893256.0\n",
      "11    1689884.0\n",
      "12    1599316.0\n",
      "dtype: float64\n"
     ]
    },
    {
     "data": {
      "text/plain": [
       "[<matplotlib.lines.Line2D at 0x7fdde92d2430>]"
      ]
     },
     "execution_count": 56,
     "metadata": {},
     "output_type": "execute_result"
    },
    {
     "data": {
      "image/png": "[encoded data removed]",
      "text/plain": [
       "<Figure size 432x288 with 1 Axes>"
      ]
     },
     "metadata": {
      "needs_background": "light"
     },
     "output_type": "display_data"
    }
   ],
   "source": [
    "import matplotlib.pyplot as plt\n",
    "import pandas as pd\n",
    "from pprint import pprint\n",
    "filename = 'demographiya.txt'\n",
    "liniya_without_end = '<span id=\"line699\"></span>                </span><span>&lt;/<span class=\"end-tag\">td</span>&gt;</span><span>'\n",
    "liniya_without_start = '<span id=\"line144\"></span>                </span><span>&lt;<span class=\"start-tag\">td</span>&gt;</span><span> '\n",
    "data_birth_lst = []\n",
    "html_code = open(filename, 'r', encoding='cp1251').read()\n",
    "lst = html_code.split(liniya_without_end)\n",
    "data_birth_without_end = lst[0]\n",
    "lst_1 = data_birth_without_end.split(liniya_without_start)\n",
    "data_birth = lst_1[1]\n",
    "data_birth_lines = data_birth.split('\\n')\n",
    "#print(data_birth_lines)\n",
    "\n",
    "data_birth_lines = [line for line in data_birth_lines if '></span>                  </span><span>&lt;<span class=\"start-tag\">p</span>&gt;</span><span></span><span>&lt;<span class=\"start-tag\">font</span> <span class=\"attribute-name\">size</span>=\"<a class=\"attribute-value\">2</a>\"&gt;' in line]\n",
    "#pprint(data_birth_lines)\n",
    "data_birth_lines = [i.split('value\">2</a>\"&gt;</span><span>')[1] for i in data_birth_lines]\n",
    "data_birth_lines = [i.split('</span><span>&lt;/<span class=\"end-tag\">font</span>&gt')[0] for i in data_birth_lines]\n",
    "data_birth_lines = [line for line in data_birth_lines if '' != line]\n",
    "data_birth_lines = [i for i in data_birth_lines if i not in ['125658', '111739', '117793', '121080']]\n",
    "data_birth_lines = [float(i) for i in data_birth_lines]\n",
    "def chunks(lst, n):\n",
    "    for i in range(0, len(lst), n):\n",
    "        yield lst[i:i + n]\n",
    "lists_data_birth_lines = list(chunks(data_birth_lines, 13))\n",
    "df = pd.DataFrame(lists_data_birth_lines)\n",
    "df_sum = df.sum(axis=0)\n",
    "df.append(df_sum, ignore_index=True)\n",
    "pprint(df_sum)\n",
    "\n",
    "x = [2006, 2007, 2008, 2009, 2010, 2011, 2012, 2013, 2014, 2015, 2016, 2017, 2018]\n",
    "plt.plot(x, df_sum)\n",
    "\n",
    "#pprint(df[1][1])\n"
   ]
  },
  {
   "cell_type": "code",
   "execution_count": null,
   "metadata": {},
   "outputs": [],
   "source": []
  }
 ],
 "metadata": {
  "kernelspec": {
   "display_name": "Python 3",
   "language": "python",
   "name": "python3"
  },
  "language_info": {
   "codemirror_mode": {
    "name": "ipython",
    "version": 3
   },
   "file_extension": ".py",
   "mimetype": "text/x-python",
   "name": "python",
   "nbconvert_exporter": "python",
   "pygments_lexer": "ipython3",
   "version": "3.8.2"
  }
 },
 "nbformat": 4,
 "nbformat_minor": 4
}
