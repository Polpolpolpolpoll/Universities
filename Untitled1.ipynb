{
 "cells": [
  {
   "cell_type": "code",
   "execution_count": null,
   "metadata": {},
   "outputs": [],
   "source": [
    "import matplotlib.pyplot as plt\n",
    "import pandas as pd\n",
    "from pprint import pprint\n",
    "file_name = 'demographiya'\n",
    "liniya_without_end = ['<span id=\"line699\"></span>                </span><span>&lt;/<span class=\"end-tag\">td</span>&gt;</span><span>']\n",
    "liniya_without_start = ['<span id=\"line145\"></span>                  </span><span>&lt;<span class=\"start-tag\">p</span>&gt;</span><span></span><span>&lt;<span class=\"start-tag\">font</span> <span class=\"attribute-name\">size</']\n",
    "data_birth_lst = []\n",
    "html_code = open(filename, 'r').read()\n",
    "lst = html_code.split(liniya_without_end)\n",
    "data_birth_without_end = lst[0]\n",
    "lst_1 = data_birth_without_end.split(liniya_without_start)\n",
    "data_birth = lst_1[1]\n",
    "data_birth\n",
    "\n",
    "\n",
    "\n"
   ]
  }
 ],
 "metadata": {
  "kernelspec": {
   "display_name": "Python 3",
   "language": "python",
   "name": "python3"
  },
  "language_info": {
   "codemirror_mode": {
    "name": "ipython",
    "version": 3
   },
   "file_extension": ".py",
   "mimetype": "text/x-python",
   "name": "python",
   "nbconvert_exporter": "python",
   "pygments_lexer": "ipython3",
   "version": "3.8.2"
  }
 },
 "nbformat": 4,
 "nbformat_minor": 4
}
