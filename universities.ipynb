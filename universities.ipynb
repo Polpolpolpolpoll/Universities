{
 "cells": [
  {
   "cell_type": "code",
   "execution_count": 16,
   "metadata": {
    "scrolled": false
   },
   "outputs": [
    {
     "name": "stdout",
     "output_type": "stream",
     "text": [
      "2011.txt\n",
      "['<span id=\"line1354\"></span>    Социальная работа',\n",
      " '<span id=\"line1357\"></span>    Адыгейский гос. ун-т., г. Майкоп',\n",
      " '<span id=\"line1360\"></span>    Республика Адыгея',\n",
      " '<span id=\"line1363\"></span>    67.9',\n",
      " '<span id=\"line1366\"></span>    66.7',\n",
      " '<span id=\"line1369\"></span>    15',\n",
      " '<span id=\"line1372\"></span>    15',\n",
      " '<span id=\"line1375\"></span>    0',\n",
      " '<span id=\"line1378\"></span>    0',\n",
      " '<span id=\"line1381\"></span>    7',\n",
      " '<span id=\"line1386\"></span>    62',\n",
      " '<span id=\"line1389\"></span>    Автоматика и управление',\n",
      " '<span id=\"line1392\"></span>    Адыгейский гос. ун-т., г. Майкоп',\n",
      " '<span id=\"line1395\"></span>    Республика Адыгея',\n",
      " '<span id=\"line1398\"></span>    59.1',\n",
      " '<span id=\"line1401\"></span>    51.7',\n",
      " '<span id=\"line1404\"></span>    25',\n",
      " '<span id=\"line1407\"></span>    25',\n",
      " '<span id=\"line1410\"></span>    0',\n",
      " '<span id=\"line1413\"></span>    0']\n",
      "2012.txt\n",
      "['<span id=\"line1328\"></span>    Юриспруденция',\n",
      " '<span id=\"line1331\"></span>    Адыгейский гос. ун-т., г. Майкоп',\n",
      " '<span id=\"line1334\"></span>    77.4',\n",
      " '<span id=\"line1337\"></span>    42.7',\n",
      " '<span id=\"line1340\"></span>    10',\n",
      " '<span id=\"line1343\"></span>    7',\n",
      " '<span id=\"line1346\"></span>    0',\n",
      " '<span id=\"line1349\"></span>    1',\n",
      " '<span id=\"line1352\"></span>    2',\n",
      " '<span id=\"line1355\"></span>    0.9',\n",
      " '<span id=\"line1358\"></span>    82.1',\n",
      " '<span id=\"line1363\"></span>    Психология',\n",
      " '<span id=\"line1366\"></span>    Адыгейский гос. ун-т., г. Майкоп',\n",
      " '<span id=\"line1369\"></span>    66.7',\n",
      " '<span id=\"line1372\"></span>    52.3',\n",
      " '<span id=\"line1375\"></span>    5',\n",
      " '<span id=\"line1378\"></span>    5',\n",
      " '<span id=\"line1381\"></span>    0',\n",
      " '<span id=\"line1384\"></span>    0',\n",
      " '<span id=\"line1387\"></span>    0']\n",
      "2013.txt\n",
      "['<span id=\"line1317\"></span>    Менеджмент',\n",
      " '<span id=\"line1320\"></span>    Адыгейский гос. ун-т., г. Майкоп',\n",
      " '<span id=\"line1323\"></span>    69.3',\n",
      " '<span id=\"line1326\"></span>    60.0',\n",
      " '<span id=\"line1329\"></span>    49',\n",
      " '<span id=\"line1332\"></span>    48',\n",
      " '<span id=\"line1335\"></span>    0',\n",
      " '<span id=\"line1338\"></span>    0',\n",
      " '<span id=\"line1341\"></span>    1',\n",
      " '<span id=\"line1344\"></span>    69.4',\n",
      " '<span id=\"line1349\"></span>    Дизайн',\n",
      " '<span id=\"line1352\"></span>    Адыгейский гос. ун-т., г. Майкоп',\n",
      " '<span id=\"line1355\"></span>    64.1',\n",
      " '<span id=\"line1358\"></span>    44.0',\n",
      " '<span id=\"line1361\"></span>    10',\n",
      " '<span id=\"line1364\"></span>    9',\n",
      " '<span id=\"line1367\"></span>    0',\n",
      " '<span id=\"line1370\"></span>    1',\n",
      " '<span id=\"line1373\"></span>    0',\n",
      " '<span id=\"line1376\"></span>    63.4']\n"
     ]
    }
   ],
   "source": [
    "import pandas as pd\n",
    "from pprint import pprint\n",
    "file_names = ['2011.txt', '2012.txt', '2013.txt', '2014.txt', '2015.txt', '2016.txt', '2017.txt', '2018.txt', '2019.txt']\n",
    "linii_without_end = ['\\n<span id=\"line198572\"', '\\n<span id=\"line208034\"', '\\n<span id=\"line178017\"']\n",
    "linii_without_start = ['<span id=\"line1353\"></span>', '<span id=\"line1325\"></span>', '<span id=\"line1316\"></span>']\n",
    "for filename, end, start in zip(file_names, linii_without_end, linii_without_start):\n",
    "    print(filename)\n",
    "    html_code = open(filename, 'r').read()\n",
    "    lst = html_code.split(end)\n",
    "    data_universities_without_end = lst[0]\n",
    "    lst_1 = data_universities_without_end.split(start)\n",
    "    data_universities = lst_1[1]\n",
    "    data_universities_lines = data_universities.split('\\n')\n",
    "    data_universities_lines = [line for line in data_universities_lines if '    ' in line]\n",
    "    pprint(data_universities_lines[:20])\n",
    "    data_universities_lines = [i.split('    ')[1] for i in data_universities_lines]\n",
    "    data_universities_lines[:20]  "
   ]
  },
  {
   "cell_type": "code",
   "execution_count": null,
   "metadata": {},
   "outputs": [],
   "source": [
    "len_data_universities_lines = len(data_universities_lines)\n",
    "oblasti = list()\n",
    "universities = list()\n",
    "bally = list()\n",
    "for i in range(0, len_data_universities_lines, 11):\n",
    "    oblasti.append(data_universities_lines[i])\n",
    "    universities.append(data_universities_lines[i+1])\n",
    "    bally.append(data_universities_lines[i+2])"
   ]
  },
  {
   "cell_type": "code",
   "execution_count": null,
   "metadata": {},
   "outputs": [],
   "source": [
    "df = pd.DataFrame([oblasti, universities, bally]).transpose()\n",
    "df.columns = ['oblast', 'university', 'ball']\n",
    "df.head()"
   ]
  }
 ],
 "metadata": {
  "kernelspec": {
   "display_name": "Python 3",
   "language": "python",
   "name": "python3"
  },
  "language_info": {
   "codemirror_mode": {
    "name": "ipython",
    "version": 3
   },
   "file_extension": ".py",
   "mimetype": "text/x-python",
   "name": "python",
   "nbconvert_exporter": "python",
   "pygments_lexer": "ipython3",
   "version": "3.8.2"
  }
 },
 "nbformat": 4,
 "nbformat_minor": 4
}
