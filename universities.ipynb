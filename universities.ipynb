{
 "cells": [
  {
   "cell_type": "code",
   "execution_count": null,
   "metadata": {},
   "outputs": [],
   "source": [
    "import pandas as pd\n",
    "for i in \n",
    "html_code = open('sait_1.txt', 'r').read()\n",
    "lst = html_code.split('line208034')\n",
    "data_universities_without_end = lst[0]\n",
    "data_universities_without_end[-1000:]\n",
    "lst_1 = data_universities_without_end.split('<span id=\"line1325\"></span>')\n",
    "data_universities = lst_1[1]\n",
    "data_universities_lines = data_universities.split('\\n')[3:]\n",
    "data_universities_lines = [line for line in data_universities_lines if 'n><' not in line]\n",
    "del data_universities_lines[-1]\n",
    "data_universities_lines = [i.split('    ')[1] for i in data_universities_lines]\n",
    "data_universities_lines[:20]     "
   ]
  },
  {
   "cell_type": "code",
   "execution_count": null,
   "metadata": {},
   "outputs": [],
   "source": [
    "len_data_universities_lines = len(data_universities_lines)\n",
    "oblasti = list()\n",
    "universities = list()\n",
    "bally = list()\n",
    "for i in range(0, len_data_universities_lines, 11):\n",
    "    oblasti.append(data_universities_lines[i])\n",
    "    universities.append(data_universities_lines[i+1])\n",
    "    bally.append(data_universities_lines[i+2])"
   ]
  },
  {
   "cell_type": "code",
   "execution_count": null,
   "metadata": {},
   "outputs": [],
   "source": [
    "df = pd.DataFrame([oblasti, universities, bally]).transpose()\n",
    "df.columns = ['oblast', 'university', 'ball']\n",
    "df.head()"
   ]
  }
 ],
 "metadata": {
  "kernelspec": {
   "display_name": "Python 3",
   "language": "python",
   "name": "python3"
  },
  "language_info": {
   "codemirror_mode": {
    "name": "ipython",
    "version": 3
   },
   "file_extension": ".py",
   "mimetype": "text/x-python",
   "name": "python",
   "nbconvert_exporter": "python",
   "pygments_lexer": "ipython3",
   "version": "3.8.2"
  }
 },
 "nbformat": 4,
 "nbformat_minor": 4
}
